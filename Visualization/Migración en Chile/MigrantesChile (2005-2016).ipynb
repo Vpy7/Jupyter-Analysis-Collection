{
 "cells": [
  {
   "cell_type": "markdown",
   "id": "d2ad0164-cae7-40a0-ae7b-e8692f80aeff",
   "metadata": {},
   "source": [
    "# Tarea Individual 1\n",
    "\n",
    "## Victor Alejandro Leiva Espinoza\n",
    "\n",
    "Se debe implementar en Python las siguientes visualizaciones, en base al Dataset de Migraciones."
   ]
  },
  {
   "cell_type": "code",
   "execution_count": 1,
   "id": "bae2f160-96a9-431e-a5ba-137c335461f4",
   "metadata": {},
   "outputs": [],
   "source": [
    "import pandas as pd\n",
    "import numpy as np\n",
    "import dash\n",
    "from dash import dcc, html\n",
    "import plotly.express as px"
   ]
  },
  {
   "cell_type": "code",
   "execution_count": null,
   "id": "719e6008-747e-4f89-b31b-982615927b4c",
   "metadata": {
    "scrolled": true
   },
   "outputs": [],
   "source": [
    "#Se carga el archivo excel\n",
    "file = \"MigrantesChile (2005-2016).xlsx\"\n",
    "df = pd.read_excel(file)"
   ]
  },
  {
   "cell_type": "markdown",
   "id": "e7f9cb1e-f377-420b-bd0d-1d75d6845569",
   "metadata": {},
   "source": [
    " 1. Considere los 5 países europeos con más migrantes en total. Presente un lineplot con la\n",
    " evolución de cantidad de migrantes desde dichos países para cada año del periodo considerado."
   ]
  },
  {
   "cell_type": "code",
   "execution_count": 3,
   "id": "e9113470-0b53-468d-a293-50306ffb6a2c",
   "metadata": {},
   "outputs": [
    {
     "data": {
      "text/html": [
       "\n",
       "        <iframe\n",
       "            width=\"100%\"\n",
       "            height=\"650\"\n",
       "            src=\"http://127.0.0.1:8050/\"\n",
       "            frameborder=\"0\"\n",
       "            allowfullscreen\n",
       "            \n",
       "        ></iframe>\n",
       "        "
      ],
      "text/plain": [
       "<IPython.lib.display.IFrame at 0x1d92c9dcb00>"
      ]
     },
     "metadata": {},
     "output_type": "display_data"
    }
   ],
   "source": [
    "# Filtrar solo Europa, sumar cantidad de migrantes por año y seleccionar los 5 valores Totales mayores\n",
    "df_europe = df[df[\"Continent\"] == \"Europe\"].copy()\n",
    "year_columns = [year for year in range(2005, 2017)]\n",
    "df_europe.loc[:, \"Total\"] = df_europe[year_columns].sum(axis=1)\n",
    "df_europe_sorted = df_europe.sort_values(by=\"Total\", ascending=False)\n",
    "df_final = df_europe_sorted.head(5)\n",
    "\n",
    "#Se graficará la evolución anual y cumulativa:\n",
    "\n",
    "#ANUAL:\n",
    "#Se transforma el df a un formato largo\n",
    "df_annual = df_final.melt(id_vars=[\"Country\"], value_vars=year_columns, \n",
    "                          var_name=\"Year\", value_name=\"Migration\")\n",
    "df_annual[\"Year\"] = df_annual[\"Year\"].astype(int)\n",
    "\n",
    "# Se define un Diccionario de traducción\n",
    "country_mapping = {\n",
    "    \"Spain\": \"España\",\n",
    "    \"France\": \"Francia\",\n",
    "    \"Germany\": \"Alemania\",\n",
    "    \"Italy\": \"Italia\",\n",
    "    \"United Kingdom\": \"Reino Unido\"\n",
    "}\n",
    "\n",
    "# Se crea la columna Translated_Country con los nombres traducidos\n",
    "df_annual[\"Translated_Country\"] = df_annual[\"Country\"].map(country_mapping).fillna(df_annual[\"Country\"])\n",
    "\n",
    "# Graficar la migración anual, usando Translated_Country para la leyenda\n",
    "fig_annual = px.line(df_annual, \n",
    "                     x=\"Year\", \n",
    "                     y=\"Migration\", \n",
    "                     color=\"Translated_Country\",  # Usamos Translated_Country aquí\n",
    "                     labels={'Migration': 'Migración', 'Year': 'Año', \"Translated_Country\": \"País\"}, \n",
    "                     title='Migración Anual de los 5 Países Europeos con más Migración a Chile en el Período 2005-2016')\n",
    "\n",
    "# CUMULATIVO\n",
    "#Mismo procedimiento anterior de formato largo y traducción en un df al que se le aplicó suma cumulativa\n",
    "df_cumulative = df_final[year_columns].cumsum(axis=1)\n",
    "df_cumulative[\"Country\"] = df_final[\"Country\"]\n",
    "df_cumulative = df_cumulative.melt(id_vars=[\"Country\"], value_vars=year_columns, \n",
    "                                    var_name=\"Year\", value_name=\"Cumulative_Migration\")\n",
    "df_cumulative[\"Year\"] = df_cumulative[\"Year\"].astype(int)\n",
    "df_cumulative[\"Translated_Country\"] = df_cumulative[\"Country\"].map(country_mapping).fillna(df_cumulative[\"Country\"])\n",
    "\n",
    "# Graficar la migración acumulada, usando Translated_Country para la leyenda\n",
    "fig_cumulative = px.line(df_cumulative, \n",
    "                         x=\"Year\", \n",
    "                         y=\"Cumulative_Migration\", \n",
    "                         color=\"Translated_Country\",  \n",
    "                         labels={'Cumulative_Migration': 'Migración Acumulada', 'Year': 'Año', \"Translated_Country\": \"País\"}, \n",
    "                         title='Migración Acumulada de los 5 Países Europeos con más Migración a Chile en el Período 2005-2016')\n",
    "\n",
    "# Crear y configurar la app Dash\n",
    "app = dash.Dash(__name__)\n",
    "app.layout = html.Div([\n",
    "    dcc.Graph(figure=fig_annual),\n",
    "    dcc.Graph(figure=fig_cumulative)\n",
    "])\n",
    "\n",
    "# Ejecutar la app en puerto 8050\n",
    "if __name__ == '__main__':\n",
    "    app.run_server(port=8050, debug=True)"
   ]
  },
  {
   "cell_type": "markdown",
   "id": "c736f241-6d02-4607-ab52-48bd8e237a3c",
   "metadata": {},
   "source": [
    " 2. De los 5 países anteriores, elija los dos con más migrantes en total. Presente dos area plots, \n",
    "uno apilado y otro no apilado, para comparar la evolución de cantidad de migrantes entre ambos\n",
    " países para cada año del periodo considerado,"
   ]
  },
  {
   "cell_type": "code",
   "execution_count": 4,
   "id": "46c53f93-2d24-4651-a711-909c4cd1d40f",
   "metadata": {},
   "outputs": [
    {
     "data": {
      "text/html": [
       "\n",
       "        <iframe\n",
       "            width=\"100%\"\n",
       "            height=\"650\"\n",
       "            src=\"http://127.0.0.1:8051/\"\n",
       "            frameborder=\"0\"\n",
       "            allowfullscreen\n",
       "            \n",
       "        ></iframe>\n",
       "        "
      ],
      "text/plain": [
       "<IPython.lib.display.IFrame at 0x1d931f9c890>"
      ]
     },
     "metadata": {},
     "output_type": "display_data"
    }
   ],
   "source": [
    "#Tomar los dos totales mayores del df europeo\n",
    "df_top_2 = df_europe_sorted.head(2)\n",
    "\n",
    "#GRÁFICO APILADO\n",
    "#Se cambia a formato largo para tener una fila por año y país\n",
    "df_annual = df_top_2.melt(id_vars=[\"Country\"], value_vars=year_columns, \n",
    "                          var_name=\"Year\", value_name=\"Migration\")\n",
    "df_annual[\"Year\"] = df_annual[\"Year\"].astype(int)\n",
    "\n",
    "# Crear la columna Translated_Country con los nombres traducidos\n",
    "df_annual[\"Translated_Country\"] = df_annual[\"Country\"].map(country_mapping).fillna(df_annual[\"Country\"])\n",
    "\n",
    "# Graficar la migración anual apilada, usando Translated_Country para la leyenda\n",
    "fig_stack = px.area(df_annual, \n",
    "                    x=\"Year\", \n",
    "                    y=\"Migration\", \n",
    "                    color=\"Translated_Country\", \n",
    "                    labels={'Migration': 'Migración', 'Year': 'Año', \"Translated_Country\": \"País\"}, \n",
    "                    title='Migración Anual (Apilada) de los 2 Países Europeos con más Migración a Chile en el Período 2005-2016',\n",
    "                    line_shape='linear')\n",
    "\n",
    "#GRÁFICO NO APILADO\n",
    "# Graficar la migración anual no apilada usando px.area\n",
    "fig_unstack = px.area(\n",
    "    df_annual, \n",
    "    x=\"Year\", \n",
    "    y=\"Migration\", \n",
    "    color=\"Translated_Country\",  # Usamos Translated_Country aquí\n",
    "    labels={'Migration': 'Migración', 'Year': 'Año', \"Translated_Country\": \"País\"}, \n",
    "    title='Migración Anual (No Apilada) de los 2 Países Europeos con más Migración a Chile en el Período 2005-2016',\n",
    "    line_shape='linear'\n",
    ")\n",
    "\n",
    "# Para cada traza, eliminamos la propiedad de apilamiento y forzamos el relleno a cero\n",
    "for trace in fig_unstack.data:\n",
    "    trace.pop('stackgroup', None)  # elimina el atributo 'stackgroup' si existe\n",
    "    trace.fill = \"tozeroy\"          # rellena el área hasta el eje cero\n",
    "\n",
    "\n",
    "\n",
    "# Crear y configurar la app Dash\n",
    "app = dash.Dash(__name__)\n",
    "app.layout = html.Div([\n",
    "    dcc.Graph(figure=fig_stack),\n",
    "    dcc.Graph(figure=fig_unstack)\n",
    "])\n",
    "\n",
    "# Ejecutar la app en el puerto 8051\n",
    "if __name__ == '__main__':\n",
    "    app.run_server(port=8050+1, debug=True)"
   ]
  },
  {
   "cell_type": "markdown",
   "id": "8460fb08-5497-4743-b786-403ce4447c77",
   "metadata": {},
   "source": [
    "3. Un histograma, con ajuste de bins, de migrantes para los países que tengan en total, a lo más,\n",
    " 55000 migrantes."
   ]
  },
  {
   "cell_type": "code",
   "execution_count": 5,
   "id": "50729b52-e1a8-47bc-abae-d6798c9190ac",
   "metadata": {},
   "outputs": [
    {
     "data": {
      "text/html": [
       "\n",
       "        <iframe\n",
       "            width=\"100%\"\n",
       "            height=\"650\"\n",
       "            src=\"http://127.0.0.1:8052/\"\n",
       "            frameborder=\"0\"\n",
       "            allowfullscreen\n",
       "            \n",
       "        ></iframe>\n",
       "        "
      ],
      "text/plain": [
       "<IPython.lib.display.IFrame at 0x1d932386510>"
      ]
     },
     "metadata": {},
     "output_type": "display_data"
    }
   ],
   "source": [
    "# Calcular el total de migrantes para cada país\n",
    "df[\"Total\"] = df[year_columns].sum(axis=1)\n",
    "\n",
    "# Filtrar países con total a lo más 55.000 migrantes\n",
    "df_filtered = df[df[\"Total\"] <= 55000]\n",
    "\n",
    "# Crear el histograma con ajuste de 11 bins de ancho = 5000 \n",
    "fig_hist = px.histogram(\n",
    "    df_filtered, \n",
    "    x=\"Total\", \n",
    "    nbins=11, \n",
    "    title=\"Distribución del Total de Migrantes a Chile por País con un máximo de 55000 Migrantes\",\n",
    "    labels={\"Total\": \"Total de Migrantes\"}\n",
    ")\n",
    "\n",
    "# Asegurar que los límites de los bins sean cada 5000 y cambiar nombre del eje y\n",
    "fig_hist.update_layout(\n",
    "    xaxis=dict(\n",
    "        tickmode='linear',  # Modo lineal para el eje X\n",
    "        dtick=5000,         # Intervalo de 5000\n",
    "        tick0=0,            # Empieza desde 0\n",
    "    ),\n",
    "    yaxis=dict(\n",
    "        title=\"Número de Países\"  \n",
    "    )\n",
    ")\n",
    "\n",
    "# Modificar el hover para que no muestre \"count\" sino \"Número de países\"\n",
    "fig_hist.update_traces(\n",
    "    hovertemplate=\"Total de Migrantes: %{x}<br>\" +  # Total de Migrantes\n",
    "                  \"Número de países: %{y}<extra></extra>\"  # Usamos %{y} para el conteo\n",
    ")\n",
    "\n",
    "# Crear y configurar la app Dash\n",
    "app = dash.Dash(__name__)\n",
    "app.layout = html.Div([\n",
    "    dcc.Graph(figure=fig_hist)\n",
    "])\n",
    "\n",
    "#Ejecutar en el puerto 8052\n",
    "if __name__ == '__main__':\n",
    "    app.run_server(port=8050+2, debug=True)"
   ]
  },
  {
   "cell_type": "markdown",
   "id": "3bc9983a-8dee-4bf8-ab31-34d588501acf",
   "metadata": {},
   "source": [
    " 4. Un Bar chart para comparar los migrantes de Europa y Asia, en cada año considerado en el\n",
    " dataset."
   ]
  },
  {
   "cell_type": "code",
   "execution_count": 6,
   "id": "a0c43052-ec75-4486-8b42-320aa8289479",
   "metadata": {},
   "outputs": [
    {
     "data": {
      "text/html": [
       "\n",
       "        <iframe\n",
       "            width=\"100%\"\n",
       "            height=\"650\"\n",
       "            src=\"http://127.0.0.1:8053/\"\n",
       "            frameborder=\"0\"\n",
       "            allowfullscreen\n",
       "            \n",
       "        ></iframe>\n",
       "        "
      ],
      "text/plain": [
       "<IPython.lib.display.IFrame at 0x1d932387530>"
      ]
     },
     "metadata": {},
     "output_type": "display_data"
    }
   ],
   "source": [
    "# Crear un DataFrame solo con Europa y Asia\n",
    "df_ea = df[df[\"Continent\"].isin([\"Europe\", \"Asia\"])].copy()\n",
    "\n",
    "# Convertir el DataFrame a formato largo (long format) para tener una fila por año y país\n",
    "df_long = df_ea.melt(id_vars=[\"Continent\"], value_vars=year_columns, \n",
    "                     var_name=\"Year\", value_name=\"Migrants\")\n",
    "df_long[\"Year\"] = df_long[\"Year\"].astype(int)\n",
    "\n",
    "# Agrupar por continente y año, sumando la cantidad de migrantes\n",
    "df_grouped = df_long.groupby([\"Continent\", \"Year\"], as_index=False)[\"Migrants\"].sum()\n",
    "\n",
    "# Crear un diccionario para traducir \"Europe\" a \"Europa\"\n",
    "continent_mapping = {\n",
    "    \"Europe\": \"Europa\",\n",
    "    \"Asia\": \"Asia\"\n",
    "}\n",
    "\n",
    "# Aplicar la traducción al DataFrame\n",
    "df_grouped[\"Translated_Continent\"] = df_grouped[\"Continent\"].map(continent_mapping).fillna(df_grouped[\"Continent\"])\n",
    "\n",
    "# Definir un orden específico para los continentes por coherencia con el siguiente gráfico\n",
    "continent_order = {\"Europe\": 0, \"Asia\": 1}\n",
    "\n",
    "# Mapear el orden de los continentes\n",
    "df_grouped[\"Continent_Order\"] = df_grouped[\"Continent\"].map(continent_order)\n",
    "df_grouped = df_grouped.sort_values(by=\"Continent_Order\", ascending=True)\n",
    "\n",
    "\n",
    "# Crear un gráfico de barras agrupadas con la columna traducida\n",
    "fig = px.bar(df_grouped, \n",
    "             x=\"Year\", \n",
    "             y=\"Migrants\", \n",
    "             color=\"Translated_Continent\",  # Usamos la columna traducida\n",
    "             barmode=\"group\",\n",
    "             labels={\"Migrants\": \"Migrantes\", \"Year\": \"Año\", \"Translated_Continent\": \"Continente\"},\n",
    "             title=\"Migrantes de Europa y Asia hacia Chile por Año en el período 2005-2016\")\n",
    "\n",
    "# Asegurar que todos los años del eje X se vean claramente\n",
    "fig.update_layout(\n",
    "    xaxis=dict(\n",
    "        tickmode='linear',  \n",
    "        tick0=min(df_grouped[\"Year\"]),  \n",
    "        dtick=1  # Intervalo entre los ticks (un año)\n",
    "    ),\n",
    "    margin=dict(l=40, r=40)  # Márgenes sencillos para que la leyenda no se oculte en una pantalla de computador\n",
    ")\n",
    "\n",
    "\n",
    "# Crear y configurar la app Dash\n",
    "app = dash.Dash(__name__)\n",
    "app.layout = html.Div([\n",
    "    dcc.Graph(figure=fig)\n",
    "])\n",
    "\n",
    "#Ejecutar en el puerto 8053\n",
    "if __name__ == '__main__':\n",
    "    app.run_server(port=8050+3, debug=True)\n"
   ]
  },
  {
   "cell_type": "markdown",
   "id": "ad6c62ca-5481-4775-bee8-bc737648666d",
   "metadata": {},
   "source": [
    "5. Un Pie chart de migrantes que compare la cantidad de migrantes en total de países europeos\n",
    " versus países asiáticos."
   ]
  },
  {
   "cell_type": "code",
   "execution_count": 7,
   "id": "1dce7129-fe65-415a-8cdc-140ea357de41",
   "metadata": {},
   "outputs": [
    {
     "data": {
      "text/html": [
       "\n",
       "        <iframe\n",
       "            width=\"100%\"\n",
       "            height=\"650\"\n",
       "            src=\"http://127.0.0.1:8054/\"\n",
       "            frameborder=\"0\"\n",
       "            allowfullscreen\n",
       "            \n",
       "        ></iframe>\n",
       "        "
      ],
      "text/plain": [
       "<IPython.lib.display.IFrame at 0x1d931f9c890>"
      ]
     },
     "metadata": {},
     "output_type": "display_data"
    }
   ],
   "source": [
    "# Agrupar por continente y sumando la cantidad total de migrantes\n",
    "df_grouped_continent = df_long.groupby(\"Continent\", as_index=False)[\"Migrants\"].sum()\n",
    "\n",
    "# Crear el gráfico de Pie chart\n",
    "fig_pie = px.pie(df_grouped_continent, \n",
    "                 names=\"Continent\", \n",
    "                 values=\"Migrants\", \n",
    "                 title=\"Migración Total de Europa y Asia hacia Chile en el Período 2005-2016\",\n",
    "                 labels={\"Migrants\": \"Total de Migrantes\", \"Continent\": \"Continente\"})\n",
    "\n",
    "# Crear y configurar la app Dash\n",
    "app = dash.Dash(__name__)\n",
    "app.layout = html.Div([\n",
    "    dcc.Graph(figure=fig_pie)\n",
    "])\n",
    "\n",
    "#Ejecutar en el puerto 8054\n",
    "if __name__ == '__main__':\n",
    "    app.run_server(port=8050+4, debug=True)\n",
    "\n"
   ]
  },
  {
   "cell_type": "markdown",
   "id": "39acc164-4182-4bb5-9064-6b9398f3656e",
   "metadata": {},
   "source": [
    " 6. Un box-and-whisker chart  con los tres países que más inmigrantes aportan en total"
   ]
  },
  {
   "cell_type": "code",
   "execution_count": 8,
   "id": "0e26eef7-075b-459a-a43d-896087ea246d",
   "metadata": {},
   "outputs": [
    {
     "data": {
      "text/html": [
       "\n",
       "        <iframe\n",
       "            width=\"100%\"\n",
       "            height=\"650\"\n",
       "            src=\"http://127.0.0.1:8055/\"\n",
       "            frameborder=\"0\"\n",
       "            allowfullscreen\n",
       "            \n",
       "        ></iframe>\n",
       "        "
      ],
      "text/plain": [
       "<IPython.lib.display.IFrame at 0x1d932433f20>"
      ]
     },
     "metadata": {},
     "output_type": "display_data"
    }
   ],
   "source": [
    "#Filtrar los tres primeros países según total de migrantes\n",
    "top_3_countries = df.nlargest(3, 'Total')\n",
    "\n",
    "# Convertir el DataFrame a formato largo (long format) para tener una fila por año y país\n",
    "df_long = top_3_countries.melt(id_vars=[\"Country\"], value_vars=[year for year in range(2005, 2017)], \n",
    "                                var_name=\"Year\", value_name=\"Migrants\")\n",
    "\n",
    "# Crear el gráfico de caja y bigotes\n",
    "fig = px.box(df_long, \n",
    "             x=\"Country\", \n",
    "             y=\"Migrants\", \n",
    "             title=\"Box-and-Whisker Chart de los 3 Países con Más Inmigrantes a Chile en el Período 2005-2016\",\n",
    "             labels={\"Country\": \"País\", \"Migrants\": \"Migrantes\"})\n",
    "\n",
    "# Crear y configurar la app Dash\n",
    "app = dash.Dash(__name__)\n",
    "app.layout = html.Div([\n",
    "    dcc.Graph(figure=fig)\n",
    "])\n",
    "\n",
    "#Ejecutar en el puerto 8055\n",
    "if __name__ == '__main__':\n",
    "    app.run_server(port=8050+5, debug=True)\n"
   ]
  },
  {
   "cell_type": "code",
   "execution_count": null,
   "id": "465fa74d-805a-455a-8551-c2e947e6ce8b",
   "metadata": {},
   "outputs": [],
   "source": []
  }
 ],
 "metadata": {
  "kernelspec": {
   "display_name": "Python 3 (ipykernel)",
   "language": "python",
   "name": "python3"
  },
  "language_info": {
   "codemirror_mode": {
    "name": "ipython",
    "version": 3
   },
   "file_extension": ".py",
   "mimetype": "text/x-python",
   "name": "python",
   "nbconvert_exporter": "python",
   "pygments_lexer": "ipython3",
   "version": "3.12.7"
  }
 },
 "nbformat": 4,
 "nbformat_minor": 5
}
